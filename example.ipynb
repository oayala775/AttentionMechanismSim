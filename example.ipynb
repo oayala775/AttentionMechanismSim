{
 "cells": [
  {
   "cell_type": "markdown",
   "metadata": {},
   "source": [
    "# Operaciones que realiza un mecanismo de atención"
   ]
  },
  {
   "cell_type": "markdown",
   "metadata": {},
   "source": [
    "Primero se importan las librerías en el cabecero"
   ]
  },
  {
   "cell_type": "code",
   "execution_count": null,
   "metadata": {},
   "outputs": [],
   "source": [
    "import random as rd\n",
    "import numpy as np\n",
    "import scipy.special as sci\n",
    "import pandas as pd"
   ]
  },
  {
   "cell_type": "markdown",
   "metadata": {},
   "source": [
    "El corpus en este caso es inicializado de forma aleatoria y representa a los embeddings ya con codificación posicional.\n",
    "En la práctica se pueden tomar estos embeddings de una librería como word2vec."
   ]
  },
  {
   "cell_type": "code",
   "execution_count": 1,
   "metadata": {},
   "outputs": [
    {
     "ename": "NameError",
     "evalue": "name 'np' is not defined",
     "output_type": "error",
     "traceback": [
      "\u001b[0;31m---------------------------------------------------------------------------\u001b[0m",
      "\u001b[0;31mNameError\u001b[0m                                 Traceback (most recent call last)",
      "Cell \u001b[0;32mIn[1], line 1\u001b[0m\n\u001b[0;32m----> 1\u001b[0m corpus \u001b[38;5;241m=\u001b[39m \u001b[43mnp\u001b[49m\u001b[38;5;241m.\u001b[39maround(np\u001b[38;5;241m.\u001b[39mrandom\u001b[38;5;241m.\u001b[39mrand(\u001b[38;5;241m3\u001b[39m,\u001b[38;5;241m3\u001b[39m),\u001b[38;5;241m3\u001b[39m)\n\u001b[1;32m      2\u001b[0m corpus\u001b[38;5;241m.\u001b[39mshape\n\u001b[1;32m      3\u001b[0m \u001b[38;5;28mprint\u001b[39m(\u001b[38;5;124mf\u001b[39m\u001b[38;5;124m\"\u001b[39m\u001b[38;5;124mCorpus shape: \u001b[39m\u001b[38;5;132;01m{\u001b[39;00mcorpus\u001b[38;5;241m.\u001b[39mshape\u001b[38;5;132;01m}\u001b[39;00m\u001b[38;5;130;01m\\n\u001b[39;00m\u001b[38;5;130;01m\\n\u001b[39;00m\u001b[38;5;124m\"\u001b[39m)\n",
      "\u001b[0;31mNameError\u001b[0m: name 'np' is not defined"
     ]
    }
   ],
   "source": [
    "corpus = np.around(np.random.rand(3,3),3)\n",
    "corpus.shape\n",
    "print(f\"Corpus shape: {corpus.shape}\\n\\n\")\n",
    "print(f\"Corpus:\\n{corpus}\")"
   ]
  },
  {
   "cell_type": "markdown",
   "metadata": {},
   "source": [
    "A partir de los embeddings iniciales se obtienen 3 matrices, Q, K y V, donde cada una es una copia de dichos embeddings."
   ]
  },
  {
   "cell_type": "code",
   "execution_count": null,
   "metadata": {},
   "outputs": [
    {
     "name": "stdout",
     "output_type": "stream",
     "text": [
      "Q shape: (3, 3)\n",
      "\n",
      "\n",
      "Q:\n",
      "[[0.952 0.541 0.262]\n",
      " [0.563 0.289 0.299]\n",
      " [0.039 0.092 0.575]]\n"
     ]
    }
   ],
   "source": [
    "Q = corpus.copy()\n",
    "K = corpus.copy()\n",
    "V = corpus.copy()\n",
    "\n",
    "print(f\"Q shape: {Q.shape}\\n\\n\")\n",
    "print(f\"Q:\\n{Q}\")"
   ]
  },
  {
   "cell_type": "markdown",
   "metadata": {},
   "source": [
    "En este caso la matriz de pesos inicia de forma aleatoria, en la práctica estas matrices pueden ya estar dadas gracias a entrenamientos previos para ahorrar tiempo y entrenamiento o bien inicializarse de forma aleatoria."
   ]
  },
  {
   "cell_type": "code",
   "execution_count": null,
   "metadata": {},
   "outputs": [
    {
     "name": "stdout",
     "output_type": "stream",
     "text": [
      "Key weights: [[0.794 0.186 0.549]\n",
      " [0.957 0.987 0.647]\n",
      " [0.147 0.598 0.322]]\n",
      "\n",
      "\n",
      "Query weights: [[0.594 0.956 0.248]\n",
      " [0.053 0.511 0.227]\n",
      " [0.581 0.742 0.666]]\n",
      "\n",
      "\n",
      "Values weights: [[0.993 0.009 0.158]\n",
      " [0.633 0.589 0.641]\n",
      " [0.519 0.158 0.874]]\n",
      "\n",
      "\n"
     ]
    }
   ],
   "source": [
    "W_Q = np.around(np.random.rand(3,3),3)\n",
    "W_K = np.around(np.random.rand(3,3),3)\n",
    "W_V = np.around(np.random.rand(3,3),3)\n",
    "\n",
    "print(f\"Key weights: {W_K}\\n\\n\")\n",
    "print(f\"Query weights: {W_Q}\\n\\n\")\n",
    "print(f\"Values weights: {W_V}\\n\\n\")"
   ]
  },
  {
   "cell_type": "markdown",
   "metadata": {},
   "source": [
    "Se multiplica cada matriz (Q,K,V) con su respectiva matriz de pesos."
   ]
  },
  {
   "cell_type": "code",
   "execution_count": null,
   "metadata": {},
   "outputs": [
    {
     "name": "stdout",
     "output_type": "stream",
     "text": [
      "Key (Post adding weights): \n",
      "[[1.312139 0.867715 0.957039]\n",
      " [0.767548 0.568763 0.592348]\n",
      " [0.203535 0.441908 0.266085]]\n",
      "\n",
      "\n",
      "Query (Post adding weights): \n",
      "[[0.746383 1.380967 0.533395]\n",
      " [0.523458 0.907765 0.404361]\n",
      " [0.362117 0.510946 0.413506]]\n",
      "\n",
      "\n",
      "Values (Post adding weights): \n",
      "[[1.423767 0.368613 0.726185]\n",
      " [0.897177 0.22253  0.535529]\n",
      " [0.395388 0.145389 0.567684]]\n",
      "\n",
      "\n"
     ]
    }
   ],
   "source": [
    "Q = np.dot(Q,W_Q)\n",
    "K = np.dot(K,W_K)\n",
    "V = np.dot(V,W_V)\n",
    "\n",
    "print(f\"Key (Post adding weights): \\n{K}\\n\\n\")\n",
    "print(f\"Query (Post adding weights): \\n{Q}\\n\\n\")\n",
    "print(f\"Values (Post adding weights): \\n{V}\\n\\n\")"
   ]
  },
  {
   "cell_type": "markdown",
   "metadata": {},
   "source": [
    "Se tiene que realizar la siguiente operación: \n",
    "$$\\text{Attention(Q,K,V)}=\\text{softmax}(\\frac{QK^T}{\\sqrt{d_k}})$$"
   ]
  },
  {
   "cell_type": "code",
   "execution_count": null,
   "metadata": {},
   "outputs": [
    {
     "data": {
      "text/plain": [
       "array([[2.68812384, 1.67428317, 0.90410384],\n",
       "       [1.86152021, 1.15760472, 0.61528504],\n",
       "       [1.31424472, 0.81348881, 0.40952235]])"
      ]
     },
     "execution_count": 138,
     "metadata": {},
     "output_type": "execute_result"
    }
   ],
   "source": [
    "res = np.dot(Q,K.T)\n",
    "res"
   ]
  },
  {
   "cell_type": "code",
   "execution_count": null,
   "metadata": {},
   "outputs": [
    {
     "data": {
      "text/plain": [
       "array([[1.09742196, 0.68352324, 0.36909885],\n",
       "       [0.75996244, 0.47259015, 0.25118906],\n",
       "       [0.53653816, 0.33210542, 0.1671868 ]])"
      ]
     },
     "execution_count": 139,
     "metadata": {},
     "output_type": "execute_result"
    }
   ],
   "source": [
    "res = res/np.sqrt(K.shape[0]+K.shape[1])\n",
    "res"
   ]
  },
  {
   "cell_type": "code",
   "execution_count": null,
   "metadata": {},
   "outputs": [
    {
     "name": "stdout",
     "output_type": "stream",
     "text": [
      "Sum = [1. 1. 1.]\n"
     ]
    }
   ],
   "source": [
    "res = sci.softmax(res,axis=0)\n",
    "print(f\"Sum = {np.sum(res,axis=0)}\")\n",
    "# e_x = np.exp(res[:1] - np.max(res))\n",
    "# res = e_x / e_x.sum()\n",
    "# print(f\"Sum = {np.sum(res)}\")"
   ]
  },
  {
   "cell_type": "code",
   "execution_count": null,
   "metadata": {},
   "outputs": [
    {
     "data": {
      "text/plain": [
       "array([[0.27108538, 0.04639636, 0.06674331],\n",
       "       [0.12189573, 0.0226827 , 0.04374575],\n",
       "       [0.04296372, 0.01287733, 0.04263613]])"
      ]
     },
     "execution_count": 141,
     "metadata": {},
     "output_type": "execute_result"
    }
   ],
   "source": [
    "res = res*V\n",
    "res"
   ]
  },
  {
   "cell_type": "code",
   "execution_count": null,
   "metadata": {},
   "outputs": [
    {
     "data": {
      "text/plain": [
       "array([[0.2711, 0.0464, 0.0667],\n",
       "       [0.1219, 0.0227, 0.0437],\n",
       "       [0.043 , 0.0129, 0.0426]])"
      ]
     },
     "execution_count": 142,
     "metadata": {},
     "output_type": "execute_result"
    }
   ],
   "source": [
    "res = np.around(res,4)\n",
    "res"
   ]
  },
  {
   "cell_type": "code",
   "execution_count": null,
   "metadata": {},
   "outputs": [
    {
     "data": {
      "text/html": [
       "<div>\n",
       "<style scoped>\n",
       "    .dataframe tbody tr th:only-of-type {\n",
       "        vertical-align: middle;\n",
       "    }\n",
       "\n",
       "    .dataframe tbody tr th {\n",
       "        vertical-align: top;\n",
       "    }\n",
       "\n",
       "    .dataframe thead th {\n",
       "        text-align: right;\n",
       "    }\n",
       "</style>\n",
       "<table border=\"1\" class=\"dataframe\">\n",
       "  <thead>\n",
       "    <tr style=\"text-align: right;\">\n",
       "      <th></th>\n",
       "      <th>Amo</th>\n",
       "      <th>el</th>\n",
       "      <th>queso</th>\n",
       "    </tr>\n",
       "  </thead>\n",
       "  <tbody>\n",
       "    <tr>\n",
       "      <th>Amo</th>\n",
       "      <td>0.2711</td>\n",
       "      <td>0.0464</td>\n",
       "      <td>0.0667</td>\n",
       "    </tr>\n",
       "    <tr>\n",
       "      <th>el</th>\n",
       "      <td>0.1219</td>\n",
       "      <td>0.0227</td>\n",
       "      <td>0.0437</td>\n",
       "    </tr>\n",
       "    <tr>\n",
       "      <th>queso</th>\n",
       "      <td>0.0430</td>\n",
       "      <td>0.0129</td>\n",
       "      <td>0.0426</td>\n",
       "    </tr>\n",
       "  </tbody>\n",
       "</table>\n",
       "</div>"
      ],
      "text/plain": [
       "          Amo      el   queso\n",
       "Amo    0.2711  0.0464  0.0667\n",
       "el     0.1219  0.0227  0.0437\n",
       "queso  0.0430  0.0129  0.0426"
      ]
     },
     "execution_count": 143,
     "metadata": {},
     "output_type": "execute_result"
    }
   ],
   "source": [
    "res_df = pd.DataFrame(res)\n",
    "res_df.columns=[\"Amo\",\"el\",\"queso\"]\n",
    "res_df.index=[\"Amo\",\"el\",\"queso\"]\n",
    "res_df"
   ]
  },
  {
   "cell_type": "code",
   "execution_count": null,
   "metadata": {},
   "outputs": [],
   "source": []
  }
 ],
 "metadata": {
  "kernelspec": {
   "display_name": "algoritmos_meta",
   "language": "python",
   "name": "python3"
  },
  "language_info": {
   "codemirror_mode": {
    "name": "ipython",
    "version": 3
   },
   "file_extension": ".py",
   "mimetype": "text/x-python",
   "name": "python",
   "nbconvert_exporter": "python",
   "pygments_lexer": "ipython3",
   "version": "3.9.21"
  }
 },
 "nbformat": 4,
 "nbformat_minor": 2
}
