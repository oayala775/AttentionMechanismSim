{
 "cells": [
  {
   "cell_type": "markdown",
   "metadata": {},
   "source": [
    "# Operaciones que realiza un mecanismo de atención"
   ]
  },
  {
   "cell_type": "markdown",
   "metadata": {},
   "source": [
    "Primero se importan las librerías en el cabecero"
   ]
  },
  {
   "cell_type": "code",
   "execution_count": 47,
   "metadata": {},
   "outputs": [],
   "source": [
    "import numpy as np\n",
    "import scipy.special as sci\n",
    "import pandas as pd"
   ]
  },
  {
   "cell_type": "markdown",
   "metadata": {},
   "source": [
    "El corpus en este caso es inicializado de forma aleatoria y representa a los embeddings ya con codificación posicional.\n",
    "En la práctica se pueden tomar estos embeddings de una librería como word2vec."
   ]
  },
  {
   "cell_type": "code",
   "execution_count": 48,
   "metadata": {},
   "outputs": [
    {
     "name": "stdout",
     "output_type": "stream",
     "text": [
      "Corpus shape: (3, 3)\n",
      "\n",
      "\n",
      "Corpus:\n",
      "[[0.375 0.951 0.732]\n",
      " [0.599 0.156 0.156]\n",
      " [0.058 0.866 0.601]]\n"
     ]
    }
   ],
   "source": [
    "np.random.seed(42)  # Valor aleatorio de seed, el cual permite poder replicar los resultados\n",
    "corpus = np.around(np.random.rand(3,3),3)\n",
    "corpus.shape\n",
    "print(f\"Corpus shape: {corpus.shape}\\n\\n\")\n",
    "print(f\"Corpus:\\n{corpus}\")"
   ]
  },
  {
   "cell_type": "markdown",
   "metadata": {},
   "source": [
    "A partir de los embeddings iniciales se obtienen 3 matrices, Q, K y V, donde cada una es una copia de dichos embeddings."
   ]
  },
  {
   "cell_type": "code",
   "execution_count": 49,
   "metadata": {},
   "outputs": [
    {
     "name": "stdout",
     "output_type": "stream",
     "text": [
      "Q shape: (3, 3)\n",
      "\n",
      "\n",
      "Q:\n",
      "[[0.375 0.951 0.732]\n",
      " [0.599 0.156 0.156]\n",
      " [0.058 0.866 0.601]]\n"
     ]
    }
   ],
   "source": [
    "Q = corpus.copy()\n",
    "K = corpus.copy()\n",
    "V = corpus.copy()\n",
    "\n",
    "print(f\"Q shape: {Q.shape}\\n\\n\")\n",
    "print(f\"Q:\\n{Q}\")"
   ]
  },
  {
   "cell_type": "markdown",
   "metadata": {},
   "source": [
    "En este caso la matriz de pesos inicia de forma aleatoria, en la práctica estas matrices pueden ya estar dadas gracias a entrenamientos previos para ahorrar tiempo y entrenamiento o bien inicializarse de forma aleatoria."
   ]
  },
  {
   "cell_type": "code",
   "execution_count": 50,
   "metadata": {},
   "outputs": [
    {
     "name": "stdout",
     "output_type": "stream",
     "text": [
      "Key weights: [[0.432 0.291 0.612]\n",
      " [0.139 0.292 0.366]\n",
      " [0.456 0.785 0.2  ]]\n",
      "\n",
      "\n",
      "Query weights: [[0.708 0.021 0.97 ]\n",
      " [0.832 0.212 0.182]\n",
      " [0.183 0.304 0.525]]\n",
      "\n",
      "\n",
      "Values weights: [[0.514 0.592 0.046]\n",
      " [0.608 0.171 0.065]\n",
      " [0.949 0.966 0.808]]\n",
      "\n",
      "\n"
     ]
    }
   ],
   "source": [
    "W_Q = np.around(np.random.rand(3,3),3)\n",
    "W_K = np.around(np.random.rand(3,3),3)\n",
    "W_V = np.around(np.random.rand(3,3),3)\n",
    "\n",
    "print(f\"Key weights: {W_K}\\n\\n\")\n",
    "print(f\"Query weights: {W_Q}\\n\\n\")\n",
    "print(f\"Values weights: {W_V}\\n\\n\")"
   ]
  },
  {
   "cell_type": "markdown",
   "metadata": {},
   "source": [
    "Se multiplica cada matriz (Q,K,V) con su respectiva matriz de pesos.\n",
    "\n",
    "Dicha matriz de pesos puede ser incializada (y en este caso es así) de forma aleatoria, sin embargo, estos valores se pueden tener pre-entrenados, de tal manera que ahorramos el ajuste de estos pesos."
   ]
  },
  {
   "cell_type": "code",
   "execution_count": 51,
   "metadata": {},
   "outputs": [
    {
     "name": "stdout",
     "output_type": "stream",
     "text": [
      "Key (Post adding weights): \n",
      "[[0.627981 0.961437 0.723966]\n",
      " [0.351588 0.342321 0.454884]\n",
      " [0.419486 0.741535 0.472652]]\n",
      "\n",
      "\n",
      "Query (Post adding weights): \n",
      "[[1.190688 0.432015 0.921132]\n",
      " [0.582432 0.093075 0.691322]\n",
      " [0.871559 0.367514 0.529397]]\n",
      "\n",
      "\n",
      "Values (Post adding weights): \n",
      "[[1.465626 1.091733 0.670521]\n",
      " [0.550778 0.53198  0.163742]\n",
      " [1.126689 0.762988 0.544566]]\n",
      "\n",
      "\n"
     ]
    }
   ],
   "source": [
    "Q = np.dot(Q,W_Q)\n",
    "K = np.dot(K,W_K)\n",
    "V = np.dot(V,W_V)\n",
    "\n",
    "print(f\"Key (Post adding weights): \\n{K}\\n\\n\")\n",
    "print(f\"Query (Post adding weights): \\n{Q}\\n\\n\")\n",
    "print(f\"Values (Post adding weights): \\n{V}\\n\\n\")"
   ]
  },
  {
   "cell_type": "markdown",
   "metadata": {},
   "source": [
    "Se tiene que realizar la siguiente operación: \n",
    "$$\\text{Attention(Q,K,V)}=\\text{softmax}(\\frac{QK^T}{\\sqrt{d_k}})$$"
   ]
  },
  {
   "cell_type": "markdown",
   "metadata": {},
   "source": [
    "$\\text{res}=QK^T$"
   ]
  },
  {
   "cell_type": "code",
   "execution_count": 52,
   "metadata": {},
   "outputs": [
    {
     "data": {
      "text/plain": [
       "array([[1.8299529 , 0.98552763, 1.25520607],\n",
       "       [0.9557356 , 0.55110895, 0.64009517],\n",
       "       [1.28392948, 0.67305167, 0.88835184]])"
      ]
     },
     "execution_count": 52,
     "metadata": {},
     "output_type": "execute_result"
    }
   ],
   "source": [
    "res = np.dot(Q,K.T)\n",
    "res"
   ]
  },
  {
   "cell_type": "markdown",
   "metadata": {},
   "source": [
    "$\\text{res}=\\frac{\\text{res}}{\\sqrt{d_k}}=\\frac{QK^T}{\\sqrt{d_k}}$"
   ]
  },
  {
   "cell_type": "code",
   "execution_count": 53,
   "metadata": {},
   "outputs": [
    {
     "data": {
      "text/plain": [
       "array([[0.74707514, 0.40233997, 0.51243573],\n",
       "       [0.39017743, 0.22498928, 0.26131776],\n",
       "       [0.52416201, 0.27477219, 0.36266812]])"
      ]
     },
     "execution_count": 53,
     "metadata": {},
     "output_type": "execute_result"
    }
   ],
   "source": [
    "res = res/np.sqrt(K.shape[0]+K.shape[1])\n",
    "res"
   ]
  },
  {
   "cell_type": "markdown",
   "metadata": {},
   "source": [
    "$\\text{res}=\\text{softmax}(\\text{res})=\\text{softmax}(\\frac{QK^T}{\\sqrt{d_k}})$"
   ]
  },
  {
   "cell_type": "code",
   "execution_count": 54,
   "metadata": {},
   "outputs": [
    {
     "name": "stdout",
     "output_type": "stream",
     "text": [
      "Sum = [1. 1. 1.]\n"
     ]
    }
   ],
   "source": [
    "res = sci.softmax(res,axis=0)\n",
    "print(f\"Sum = {np.sum(res,axis=0)}\")\n",
    "# e_x = np.exp(res[:1] - np.max(res))\n",
    "# res = e_x / e_x.sum()\n",
    "# print(f\"Sum = {np.sum(res)}\")"
   ]
  },
  {
   "cell_type": "markdown",
   "metadata": {},
   "source": [
    "# Multiplicación con los valores originales\n",
    "Esto se realiza para agregar la información que ya está contextualizada con la información original.\n",
    "\n",
    "Esto se hace con el objetivo de que la matriz original contenga ya la información contextual, es decir, los tokens (en este caso palabras) ya conocen su relación con el resto de palabras del corpus."
   ]
  },
  {
   "cell_type": "code",
   "execution_count": 55,
   "metadata": {},
   "outputs": [
    {
     "data": {
      "text/plain": [
       "array([[0.58624373, 0.40170918, 0.25409701],\n",
       "       [0.15418173, 0.16393369, 0.0482712 ],\n",
       "       [0.36061946, 0.24712179, 0.17766196]])"
      ]
     },
     "execution_count": 55,
     "metadata": {},
     "output_type": "execute_result"
    }
   ],
   "source": [
    "res = res*V\n",
    "res"
   ]
  },
  {
   "cell_type": "markdown",
   "metadata": {},
   "source": [
    "Se aplica un redondeo con el objetivo de hacer más fácil la visualización"
   ]
  },
  {
   "cell_type": "code",
   "execution_count": 56,
   "metadata": {},
   "outputs": [
    {
     "data": {
      "text/plain": [
       "array([[0.5862, 0.4017, 0.2541],\n",
       "       [0.1542, 0.1639, 0.0483],\n",
       "       [0.3606, 0.2471, 0.1777]])"
      ]
     },
     "execution_count": 56,
     "metadata": {},
     "output_type": "execute_result"
    }
   ],
   "source": [
    "res = np.around(res,4)\n",
    "res"
   ]
  },
  {
   "cell_type": "markdown",
   "metadata": {},
   "source": [
    "Se convierte en DataFrame con el fin de poder visualizar que cada embedding es una representación vectorial de los tokens y que el mecanismo de atención tiene como fin entender la relación que tienen cada palabra con las otras del corpus.\n",
    "\n",
    "Se puede ver que en la matriz, el valor que se encuentre en la coordenada (renglón, columna) será la representación de la relación entre tokens, en donde un valor más grande indica una relación más fuerte entre palabras."
   ]
  },
  {
   "cell_type": "code",
   "execution_count": 57,
   "metadata": {},
   "outputs": [
    {
     "data": {
      "text/html": [
       "<div>\n",
       "<style scoped>\n",
       "    .dataframe tbody tr th:only-of-type {\n",
       "        vertical-align: middle;\n",
       "    }\n",
       "\n",
       "    .dataframe tbody tr th {\n",
       "        vertical-align: top;\n",
       "    }\n",
       "\n",
       "    .dataframe thead th {\n",
       "        text-align: right;\n",
       "    }\n",
       "</style>\n",
       "<table border=\"1\" class=\"dataframe\">\n",
       "  <thead>\n",
       "    <tr style=\"text-align: right;\">\n",
       "      <th></th>\n",
       "      <th>Amo</th>\n",
       "      <th>el</th>\n",
       "      <th>queso</th>\n",
       "    </tr>\n",
       "  </thead>\n",
       "  <tbody>\n",
       "    <tr>\n",
       "      <th>Amo</th>\n",
       "      <td>0.5862</td>\n",
       "      <td>0.4017</td>\n",
       "      <td>0.2541</td>\n",
       "    </tr>\n",
       "    <tr>\n",
       "      <th>el</th>\n",
       "      <td>0.1542</td>\n",
       "      <td>0.1639</td>\n",
       "      <td>0.0483</td>\n",
       "    </tr>\n",
       "    <tr>\n",
       "      <th>queso</th>\n",
       "      <td>0.3606</td>\n",
       "      <td>0.2471</td>\n",
       "      <td>0.1777</td>\n",
       "    </tr>\n",
       "  </tbody>\n",
       "</table>\n",
       "</div>"
      ],
      "text/plain": [
       "          Amo      el   queso\n",
       "Amo    0.5862  0.4017  0.2541\n",
       "el     0.1542  0.1639  0.0483\n",
       "queso  0.3606  0.2471  0.1777"
      ]
     },
     "execution_count": 57,
     "metadata": {},
     "output_type": "execute_result"
    }
   ],
   "source": [
    "res_df = pd.DataFrame(res)\n",
    "res_df.columns=[\"Amo\",\"el\",\"queso\"]\n",
    "res_df.index=[\"Amo\",\"el\",\"queso\"]\n",
    "res_df"
   ]
  }
 ],
 "metadata": {
  "kernelspec": {
   "display_name": "algoritmos_meta",
   "language": "python",
   "name": "python3"
  },
  "language_info": {
   "codemirror_mode": {
    "name": "ipython",
    "version": 3
   },
   "file_extension": ".py",
   "mimetype": "text/x-python",
   "name": "python",
   "nbconvert_exporter": "python",
   "pygments_lexer": "ipython3",
   "version": "3.9.21"
  }
 },
 "nbformat": 4,
 "nbformat_minor": 2
}
